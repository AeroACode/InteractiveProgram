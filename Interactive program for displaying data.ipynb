{
 "cells": [
  {
   "cell_type": "markdown",
   "id": "643114b0",
   "metadata": {},
   "source": [
    "# Import libraries and define global variable 'df'"
   ]
  },
  {
   "cell_type": "code",
   "execution_count": 1,
   "id": "7c7ec2fe",
   "metadata": {},
   "outputs": [],
   "source": [
    "import ipywidgets as widgets\n",
    "import pandas as pd\n",
    "import io\n",
    "import matplotlib.pyplot as plt\n",
    "import plotly.express as px\n",
    "\n",
    "# Global variable to store the dataframe\n",
    "df = pd.DataFrame()"
   ]
  },
  {
   "cell_type": "markdown",
   "id": "74e4fa55",
   "metadata": {},
   "source": [
    "# Define functions for data display and cleaning"
   ]
  },
  {
   "cell_type": "code",
   "execution_count": 2,
   "id": "e8f5d39b",
   "metadata": {},
   "outputs": [],
   "source": [
    "# Function to handle file upload and data display\n",
    "def display_data(button):\n",
    "    global df\n",
    "    with data_output:\n",
    "        data_output.clear_output(wait=True)\n",
    "        uploaded_file = upload_button.value\n",
    "        for name, file_info in uploaded_file.items():\n",
    "            content = file_info['content']\n",
    "            try:\n",
    "                text = content.decode('utf-8')\n",
    "            except UnicodeDecodeError:\n",
    "                try:\n",
    "                    text = content.decode('iso-8859-1')\n",
    "                except Exception as e:\n",
    "                    print(f\"Could not decode file: {e}\")\n",
    "                    return\n",
    "            \n",
    "            with io.StringIO(text) as f:\n",
    "                df = pd.read_csv(f, parse_dates=['Date'], index_col='Date')  # Ensure Date column is parsed as datetime and set as index\n",
    "                \n",
    "                # Displaying basic information\n",
    "                with info_output:\n",
    "                    info_output.clear_output(wait=True)\n",
    "                    print(f\"File: {name}\")\n",
    "                    print(f\"Rows: {df.shape[0]}\")\n",
    "                    print(f\"Columns: {df.shape[1]}\")\n",
    "                    print(f\"Missing Values: {df.isnull().sum().sum()}\")\n",
    "                \n",
    "                # Displaying the first 5 rows of the data\n",
    "                print(\"Displaying first 5 rows of the data:\")\n",
    "                print(df.head())\n",
    "                \n",
    "                # Update parameter options in dropdown\n",
    "                update_parameter_options(df)\n",
    "\n",
    "\n",
    "# Function to perform automatic data cleaning\n",
    "def automatic_data_cleaning(df):\n",
    "    # 1. Handling Missing Values: Option B - Impute with median\n",
    "    df = df.fillna(df.median())\n",
    "    \n",
    "    # 2. Encoding Categorical Variables: One-hot encoding\n",
    "    df = pd.get_dummies(df, drop_first=True)\n",
    "    \n",
    "    # 3. Normalizing Data: Min-Max Scaling\n",
    "    df = (df - df.min()) / (df.max() - df.min())\n",
    "    \n",
    "    # 4. Handling Outliers: Remove data points > 3 std devs from mean\n",
    "    for col in df.select_dtypes(include=['float64', 'int64']).columns:\n",
    "        df = df[(df[col] > df[col].mean() - 3*df[col].std()) & (df[col] < df[col].mean() + 3*df[col].std())]\n",
    "    \n",
    "    # 5. Feature Engineering: Example - Adding interaction terms (product of all pairs of variables)\n",
    "    # Note: Depending on the number of columns, this can significantly increase dataset size\n",
    "    original_columns = df.columns\n",
    "    for col_a in original_columns:\n",
    "        for col_b in original_columns:\n",
    "            if col_a != col_b:\n",
    "                df[f\"{col_a}_x_{col_b}\"] = df[col_a] * df[col_b]\n",
    "    \n",
    "    return df"
   ]
  },
  {
   "cell_type": "markdown",
   "id": "e4f1c92f",
   "metadata": {},
   "source": [
    "# Define and display widgets"
   ]
  },
  {
   "cell_type": "code",
   "execution_count": 3,
   "id": "922eddd7",
   "metadata": {},
   "outputs": [
    {
     "data": {
      "application/vnd.jupyter.widget-view+json": {
       "model_id": "1252eb3dc7d54356baea5729c3830acf",
       "version_major": 2,
       "version_minor": 0
      },
      "text/plain": [
       "VBox(children=(FileUpload(value={}, accept='.csv', description='Upload'), Button(description='Display Data', s…"
      ]
     },
     "metadata": {},
     "output_type": "display_data"
    }
   ],
   "source": [
    "# Define widgets\n",
    "upload_button = widgets.FileUpload(accept='.csv', multiple=False)\n",
    "display_button = widgets.Button(description=\"Display Data\")\n",
    "data_output = widgets.Output()\n",
    "info_output = widgets.Output()\n",
    "parameter_dropdown = widgets.Dropdown(options=[], value=None, description='Parameter:')\n",
    "graph_output = widgets.Output()\n",
    "\n",
    "# Function to update parameter options in dropdown\n",
    "def update_parameter_options(df):\n",
    "    parameter_dropdown.options = df.columns\n",
    "    parameter_dropdown.value = df.columns[0] if not df.empty else None\n",
    "\n",
    "# Function to display graph based on selected parameter\n",
    "def display_graph(change):\n",
    "    with graph_output:\n",
    "        graph_output.clear_output(wait=True)\n",
    "        selected_parameter = change.new\n",
    "        if selected_parameter and not df.empty:\n",
    "            # Create an interactive line plot using Plotly Express\n",
    "            fig = px.line(df, x=df.index, y=selected_parameter, title=f'Graph for {selected_parameter}')\n",
    "            fig.update_xaxes(title_text='Date')  # Set x-axis label\n",
    "            fig.update_yaxes(title_text=selected_parameter)  # Set y-axis label\n",
    "            fig.show()\n",
    "\n",
    "# Link dropdown value change to graph display function\n",
    "parameter_dropdown.observe(display_graph, names='value')\n",
    "\n",
    "# Link display button to data display function\n",
    "display_button.on_click(display_data)  \n",
    "\n",
    "# Display widgets\n",
    "widgets.VBox([\n",
    "    upload_button, display_button, info_output, data_output,\n",
    "    parameter_dropdown, graph_output\n",
    "])\n"
   ]
  }
 ],
 "metadata": {
  "kernelspec": {
   "display_name": "Python 3 (ipykernel)",
   "language": "python",
   "name": "python3"
  },
  "language_info": {
   "codemirror_mode": {
    "name": "ipython",
    "version": 3
   },
   "file_extension": ".py",
   "mimetype": "text/x-python",
   "name": "python",
   "nbconvert_exporter": "python",
   "pygments_lexer": "ipython3",
   "version": "3.9.13"
  }
 },
 "nbformat": 4,
 "nbformat_minor": 5
}
